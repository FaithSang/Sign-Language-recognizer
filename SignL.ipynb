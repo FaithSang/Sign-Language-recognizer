{
 "cells": [
  {
   "cell_type": "markdown",
   "id": "d8e0f7ea",
   "metadata": {},
   "source": [
    "1 Import and Install Dependencies"
   ]
  },
  {
   "cell_type": "code",
   "execution_count": 1,
   "id": "ad9699ba",
   "metadata": {
    "collapsed": true
   },
   "outputs": [
    {
     "name": "stdout",
     "output_type": "stream",
     "text": [
      "Requirement already satisfied: tensorflow==2.5.1 in c:\\users\\admin\\anaconda3\\lib\\site-packages (2.5.1)\n",
      "Requirement already satisfied: tensorflow-gpu==2.5.1 in c:\\users\\admin\\anaconda3\\lib\\site-packages (2.5.1)\n",
      "Requirement already satisfied: opencv-python in c:\\users\\admin\\anaconda3\\lib\\site-packages (4.7.0.72)\n",
      "Requirement already satisfied: mediapipe in c:\\users\\admin\\anaconda3\\lib\\site-packages (0.8.11)\n",
      "Requirement already satisfied: sklearn in c:\\users\\admin\\anaconda3\\lib\\site-packages (0.0.post1)\n",
      "Requirement already satisfied: matplotlib in c:\\users\\admin\\anaconda3\\lib\\site-packages (3.5.1)\n",
      "Requirement already satisfied: protobuf>=3.9.2 in c:\\users\\admin\\anaconda3\\lib\\site-packages (from tensorflow==2.5.1) (3.19.1)\n",
      "Requirement already satisfied: grpcio~=1.34.0 in c:\\users\\admin\\anaconda3\\lib\\site-packages (from tensorflow==2.5.1) (1.34.1)\n",
      "Requirement already satisfied: gast==0.4.0 in c:\\users\\admin\\anaconda3\\lib\\site-packages (from tensorflow==2.5.1) (0.4.0)\n",
      "Requirement already satisfied: astunparse~=1.6.3 in c:\\users\\admin\\anaconda3\\lib\\site-packages (from tensorflow==2.5.1) (1.6.3)\n",
      "Requirement already satisfied: tensorboard~=2.5 in c:\\users\\admin\\anaconda3\\lib\\site-packages (from tensorflow==2.5.1) (2.11.2)\n",
      "Requirement already satisfied: keras-preprocessing~=1.1.2 in c:\\users\\admin\\anaconda3\\lib\\site-packages (from tensorflow==2.5.1) (1.1.2)\n",
      "Requirement already satisfied: six~=1.15.0 in c:\\users\\admin\\anaconda3\\lib\\site-packages (from tensorflow==2.5.1) (1.15.0)\n",
      "Requirement already satisfied: typing-extensions~=3.7.4 in c:\\users\\admin\\anaconda3\\lib\\site-packages (from tensorflow==2.5.1) (3.7.4.3)\n",
      "Requirement already satisfied: termcolor~=1.1.0 in c:\\users\\admin\\anaconda3\\lib\\site-packages (from tensorflow==2.5.1) (1.1.0)\n",
      "Requirement already satisfied: tensorflow-estimator<2.6.0,>=2.5.0 in c:\\users\\admin\\anaconda3\\lib\\site-packages (from tensorflow==2.5.1) (2.5.0)\n",
      "Requirement already satisfied: opt-einsum~=3.3.0 in c:\\users\\admin\\anaconda3\\lib\\site-packages (from tensorflow==2.5.1) (3.3.0)\n",
      "Requirement already satisfied: numpy~=1.19.2 in c:\\users\\admin\\anaconda3\\lib\\site-packages (from tensorflow==2.5.1) (1.19.5)\n",
      "Requirement already satisfied: wheel~=0.35 in c:\\users\\admin\\anaconda3\\lib\\site-packages (from tensorflow==2.5.1) (0.37.1)\n",
      "Requirement already satisfied: absl-py~=0.10 in c:\\users\\admin\\anaconda3\\lib\\site-packages (from tensorflow==2.5.1) (0.15.0)\n",
      "Requirement already satisfied: wrapt~=1.12.1 in c:\\users\\admin\\anaconda3\\lib\\site-packages (from tensorflow==2.5.1) (1.12.1)\n",
      "Requirement already satisfied: google-pasta~=0.2 in c:\\users\\admin\\anaconda3\\lib\\site-packages (from tensorflow==2.5.1) (0.2.0)\n",
      "Requirement already satisfied: h5py~=3.1.0 in c:\\users\\admin\\anaconda3\\lib\\site-packages (from tensorflow==2.5.1) (3.1.0)\n",
      "Requirement already satisfied: flatbuffers~=1.12.0 in c:\\users\\admin\\anaconda3\\lib\\site-packages (from tensorflow==2.5.1) (1.12)\n",
      "Requirement already satisfied: keras-nightly~=2.5.0.dev in c:\\users\\admin\\anaconda3\\lib\\site-packages (from tensorflow==2.5.1) (2.5.0.dev2021032900)\n",
      "Requirement already satisfied: attrs>=19.1.0 in c:\\users\\admin\\anaconda3\\lib\\site-packages (from mediapipe) (21.4.0)\n",
      "Requirement already satisfied: opencv-contrib-python in c:\\users\\admin\\appdata\\roaming\\python\\python39\\site-packages (from mediapipe) (4.7.0.72)\n",
      "Requirement already satisfied: pyparsing>=2.2.1 in c:\\users\\admin\\anaconda3\\lib\\site-packages (from matplotlib) (3.0.4)\n",
      "Requirement already satisfied: fonttools>=4.22.0 in c:\\users\\admin\\anaconda3\\lib\\site-packages (from matplotlib) (4.25.0)\n",
      "Requirement already satisfied: cycler>=0.10 in c:\\users\\admin\\anaconda3\\lib\\site-packages (from matplotlib) (0.11.0)\n",
      "Requirement already satisfied: kiwisolver>=1.0.1 in c:\\users\\admin\\anaconda3\\lib\\site-packages (from matplotlib) (1.3.2)\n",
      "Requirement already satisfied: packaging>=20.0 in c:\\users\\admin\\anaconda3\\lib\\site-packages (from matplotlib) (21.3)\n",
      "Requirement already satisfied: pillow>=6.2.0 in c:\\users\\admin\\anaconda3\\lib\\site-packages (from matplotlib) (9.0.1)\n",
      "Requirement already satisfied: python-dateutil>=2.7 in c:\\users\\admin\\anaconda3\\lib\\site-packages (from matplotlib) (2.8.2)\n",
      "Requirement already satisfied: requests<3,>=2.21.0 in c:\\users\\admin\\anaconda3\\lib\\site-packages (from tensorboard~=2.5->tensorflow==2.5.1) (2.27.1)\n",
      "Requirement already satisfied: google-auth-oauthlib<0.5,>=0.4.1 in c:\\users\\admin\\anaconda3\\lib\\site-packages (from tensorboard~=2.5->tensorflow==2.5.1) (0.4.6)\n",
      "Requirement already satisfied: setuptools>=41.0.0 in c:\\users\\admin\\anaconda3\\lib\\site-packages (from tensorboard~=2.5->tensorflow==2.5.1) (61.2.0)\n",
      "Requirement already satisfied: tensorboard-data-server<0.7.0,>=0.6.0 in c:\\users\\admin\\anaconda3\\lib\\site-packages (from tensorboard~=2.5->tensorflow==2.5.1) (0.6.1)\n",
      "Requirement already satisfied: tensorboard-plugin-wit>=1.6.0 in c:\\users\\admin\\anaconda3\\lib\\site-packages (from tensorboard~=2.5->tensorflow==2.5.1) (1.8.1)\n",
      "Requirement already satisfied: google-auth<3,>=1.6.3 in c:\\users\\admin\\anaconda3\\lib\\site-packages (from tensorboard~=2.5->tensorflow==2.5.1) (1.33.0)\n",
      "Requirement already satisfied: werkzeug>=1.0.1 in c:\\users\\admin\\anaconda3\\lib\\site-packages (from tensorboard~=2.5->tensorflow==2.5.1) (2.0.3)\n",
      "Requirement already satisfied: markdown>=2.6.8 in c:\\users\\admin\\anaconda3\\lib\\site-packages (from tensorboard~=2.5->tensorflow==2.5.1) (3.3.4)\n",
      "Requirement already satisfied: rsa<5,>=3.1.4 in c:\\users\\admin\\anaconda3\\lib\\site-packages (from google-auth<3,>=1.6.3->tensorboard~=2.5->tensorflow==2.5.1) (4.7.2)\n",
      "Requirement already satisfied: pyasn1-modules>=0.2.1 in c:\\users\\admin\\anaconda3\\lib\\site-packages (from google-auth<3,>=1.6.3->tensorboard~=2.5->tensorflow==2.5.1) (0.2.8)\n",
      "Requirement already satisfied: cachetools<5.0,>=2.0.0 in c:\\users\\admin\\anaconda3\\lib\\site-packages (from google-auth<3,>=1.6.3->tensorboard~=2.5->tensorflow==2.5.1) (4.2.2)\n",
      "Requirement already satisfied: requests-oauthlib>=0.7.0 in c:\\users\\admin\\anaconda3\\lib\\site-packages (from google-auth-oauthlib<0.5,>=0.4.1->tensorboard~=2.5->tensorflow==2.5.1) (1.3.1)\n",
      "Requirement already satisfied: certifi>=2017.4.17 in c:\\users\\admin\\anaconda3\\lib\\site-packages (from requests<3,>=2.21.0->tensorboard~=2.5->tensorflow==2.5.1) (2021.10.8)\n",
      "Requirement already satisfied: charset-normalizer~=2.0.0 in c:\\users\\admin\\anaconda3\\lib\\site-packages (from requests<3,>=2.21.0->tensorboard~=2.5->tensorflow==2.5.1) (2.0.4)\n",
      "Requirement already satisfied: idna<4,>=2.5 in c:\\users\\admin\\anaconda3\\lib\\site-packages (from requests<3,>=2.21.0->tensorboard~=2.5->tensorflow==2.5.1) (3.3)\n",
      "Requirement already satisfied: urllib3<1.27,>=1.21.1 in c:\\users\\admin\\anaconda3\\lib\\site-packages (from requests<3,>=2.21.0->tensorboard~=2.5->tensorflow==2.5.1) (1.26.9)\n",
      "Requirement already satisfied: pyasn1<0.5.0,>=0.4.6 in c:\\users\\admin\\anaconda3\\lib\\site-packages (from pyasn1-modules>=0.2.1->google-auth<3,>=1.6.3->tensorboard~=2.5->tensorflow==2.5.1) (0.4.8)\n",
      "Requirement already satisfied: oauthlib>=3.0.0 in c:\\users\\admin\\anaconda3\\lib\\site-packages (from requests-oauthlib>=0.7.0->google-auth-oauthlib<0.5,>=0.4.1->tensorboard~=2.5->tensorflow==2.5.1) (3.2.2)\n"
     ]
    }
   ],
   "source": [
    "!pip install tensorflow==2.5.1 tensorflow-gpu==2.5.1 opencv-python mediapipe sklearn matplotlib"
   ]
  },
  {
   "cell_type": "code",
   "execution_count": 1,
   "id": "23749c03",
   "metadata": {},
   "outputs": [],
   "source": [
    "import cv2\n",
    "import numpy as np  #help with arrays\n",
    "import os       #makes is eaier t work with file paths\n",
    "from matplotlib import pyplot as plt   #visualize images\n",
    "import time       #to take a sleep between  each frame that we collect\n",
    "import mediapipe as mp"
   ]
  },
  {
   "cell_type": "markdown",
   "id": "682724dc",
   "metadata": {},
   "source": [
    "2 Keypoint Using MP Holistic"
   ]
  },
  {
   "cell_type": "code",
   "execution_count": 2,
   "id": "832204b9",
   "metadata": {},
   "outputs": [],
   "source": [
    "#two variables one for mediapipe holistics and one for mediapipe drawing utilities\n",
    "#holistics will be downloading that model and levaraging the model\n",
    "# the drawing utility is going to make it easier to draw the keypoints on our face\n",
    "mp_holistic = mp.solutions.holistic #holistic model\n",
    "mp_drawing = mp.solutions.drawing_utils #drawing utilities"
   ]
  },
  {
   "cell_type": "code",
   "execution_count": 3,
   "id": "a90f8528",
   "metadata": {},
   "outputs": [],
   "source": [
    "#function to make our detection\n",
    "#variable for image and model\n",
    "def mediapipe_detection(image, model):\n",
    "    image = cv2.cvtColor(image, cv2.COLOR_BGR2RGB) #color conversion bgr to rgb\n",
    "    image.flags.writeable = False                  #sets our image writable status to false, our image is ....\n",
    "    results = model.process(image)                 #make prediction\n",
    "    image.flags.writeable = True                   #image is now writeable\n",
    "    image = cv2.cvtColor(image, cv2.COLOR_RGB2BGR) #color conversion rgb to bgr\n",
    "    return image, results                          "
   ]
  },
  {
   "cell_type": "code",
   "execution_count": 4,
   "id": "de756f39",
   "metadata": {},
   "outputs": [],
   "source": [
    "def draw_landmarks(image, results):\n",
    "    #helper function that comes with mediapipe that makes it easier to draw landmarks onto an image\n",
    "    mp_drawing.draw_landmarks(image, results.face_landmarks, mp_holistic.FACEMESH_TESSELATION)#Draw face connections\n",
    "    mp_drawing.draw_landmarks(image, results.pose_landmarks, mp_holistic.POSE_CONNECTIONS)#draw pose connections\n",
    "    mp_drawing.draw_landmarks(image, results.left_hand_landmarks, mp_holistic.HAND_CONNECTIONS)#draw left hand connections\n",
    "    mp_drawing.draw_landmarks(image, results.right_hand_landmarks, mp_holistic.HAND_CONNECTIONS)#draw right hand connections"
   ]
  },
  {
   "cell_type": "code",
   "execution_count": 5,
   "id": "38a3fca1",
   "metadata": {},
   "outputs": [],
   "source": [
    "def draw_styled_landmarks(image, results):\n",
    "    #Draw face connections\n",
    "    mp_drawing.draw_landmarks(image, results.face_landmarks, mp_holistic.FACEMESH_TESSELATION,\n",
    "                             mp_drawing.DrawingSpec(color=(80,110,10), thickness=1, circle_radius=1),\n",
    "                             mp_drawing.DrawingSpec(color=(80,256,121), thickness=1, circle_radius=1)\n",
    "                             )\n",
    "    #draw pose connections\n",
    "    mp_drawing.draw_landmarks(image, results.pose_landmarks, mp_holistic.POSE_CONNECTIONS,\n",
    "                             mp_drawing.DrawingSpec(color=(80,22,10), thickness=2, circle_radius=4),\n",
    "                             mp_drawing.DrawingSpec(color=(80,44,121), thickness=2, circle_radius=2)\n",
    "                             )        #first line to color landmark(dot) the second colors connection(line)\n",
    "    #draw left hand connections\n",
    "    mp_drawing.draw_landmarks(image, results.left_hand_landmarks, mp_holistic.HAND_CONNECTIONS,\n",
    "                             mp_drawing.DrawingSpec(color=(121,22,76), thickness=2, circle_radius=4),\n",
    "                             mp_drawing.DrawingSpec(color=(121,44,250), thickness=2, circle_radius=2)\n",
    "                             )\n",
    "    #draw right hand connections\n",
    "    mp_drawing.draw_landmarks(image, results.right_hand_landmarks, mp_holistic.HAND_CONNECTIONS,\n",
    "                             mp_drawing.DrawingSpec(color=(245,117,66), thickness=2, circle_radius=4),\n",
    "                             mp_drawing.DrawingSpec(color=(245,66,230), thickness=2, circle_radius=2)\n",
    "                             )"
   ]
  },
  {
   "cell_type": "code",
   "execution_count": 8,
   "id": "c7a0e724",
   "metadata": {},
   "outputs": [],
   "source": [
    "mp_drawing.draw_landmarks??\n",
    "#landmark drawing spec-what formatting to be applied to the dots and effectively the joins\n",
    "#connection drawing spec-what format to be applied to the connections"
   ]
  },
  {
   "cell_type": "code",
   "execution_count": 7,
   "id": "2acb65ab",
   "metadata": {},
   "outputs": [
    {
     "data": {
      "text/plain": [
       "mediapipe.python.solution_base.SolutionOutputs"
      ]
     },
     "execution_count": 7,
     "metadata": {},
     "output_type": "execute_result"
    }
   ],
   "source": [
    "results"
   ]
  },
  {
   "cell_type": "code",
   "execution_count": 8,
   "id": "4b06b3e3",
   "metadata": {},
   "outputs": [],
   "source": [
    "draw_landmarks(frame, results)"
   ]
  },
  {
   "cell_type": "code",
   "execution_count": 9,
   "id": "df3c33e4",
   "metadata": {},
   "outputs": [
    {
     "data": {
      "text/plain": [
       "<matplotlib.image.AxesImage at 0x2d439641310>"
      ]
     },
     "execution_count": 9,
     "metadata": {},
     "output_type": "execute_result"
    },
    {
     "data": {
      "image/png": "[encoded data removed]",
      "text/plain": [
       "<Figure size 432x288 with 1 Axes>"
      ]
     },
     "metadata": {
      "needs_background": "light"
     },
     "output_type": "display_data"
    }
   ],
   "source": [
    "plt.imshow(cv2.cvtColor(frame, cv2.COLOR_BGR2RGB))"
   ]
  },
  {
   "cell_type": "code",
   "execution_count": 6,
   "id": "d8d7fe79",
   "metadata": {},
   "outputs": [],
   "source": [
    "#ensure we can access our webcam using opencv\n",
    "#apply a secondary layer where we are actually going to make detections using media pipe\n",
    "cap = cv2.VideoCapture(0) #effectively accessing our webcam\n",
    "#access or set the mediapipe model\n",
    "with mp_holistic.Holistic(min_detection_confidence=0.5, min_tracking_confidence=0.5) as holistic:\n",
    "    #double checking that we're still accesing our webcam and loop through all our frames in our webcam\n",
    "   \n",
    "    while cap.isOpened():\n",
    "        #Read feed from our webcam\n",
    "        ret, frame = cap.read()\n",
    "        \n",
    "        #make detections\n",
    "        image, results = mediapipe_detection(frame, holistic)\n",
    "        \n",
    "        #Draw landmarks\n",
    "        draw_styled_landmarks(image, results)\n",
    "        \n",
    "        #print(results)\n",
    "        #show to the user\n",
    "        cv2.imshow('Feed', image)\n",
    "        \n",
    "        #breaking gracefully going to wait for a key to be pressed inside of our frame\n",
    "        if cv2.waitKey(10) & 0xFF == ord('q'):\n",
    "            break\n",
    "    cap.release() #releases our webcam\n",
    "    cv2.destroyAllWindows() #closes down our frame"
   ]
  },
  {
   "cell_type": "markdown",
   "id": "df29d50c",
   "metadata": {},
   "source": [
    "3 Extract Keypoint Values"
   ]
  },
  {
   "cell_type": "code",
   "execution_count": 10,
   "id": "e1172653",
   "metadata": {},
   "outputs": [
    {
     "data": {
      "text/plain": [
       "33"
      ]
     },
     "execution_count": 10,
     "metadata": {},
     "output_type": "execute_result"
    }
   ],
   "source": [
    "len(results.pose_landmarks.landmark)"
   ]
  },
  {
   "cell_type": "code",
   "execution_count": 11,
   "id": "251fde8c",
   "metadata": {},
   "outputs": [
    {
     "data": {
      "text/plain": [
       "0.32407259941101074"
      ]
     },
     "execution_count": 11,
     "metadata": {},
     "output_type": "execute_result"
    }
   ],
   "source": [
    "results.pose_landmarks.landmark[0].x"
   ]
  },
  {
   "cell_type": "code",
   "execution_count": 12,
   "id": "cfd330b0",
   "metadata": {},
   "outputs": [],
   "source": [
    "pose = []\n",
    "#extracted kepoint for poselandmake and stored in an array\n",
    "for res in results.pose_landmarks.landmark:\n",
    "    test = np.array([res.x, res.y, res.z, res.visibility])\n",
    "    pose.append(test)"
   ]
  },
  {
   "cell_type": "code",
   "execution_count": 13,
   "id": "5ed117f4",
   "metadata": {},
   "outputs": [],
   "source": [
    "#creating a list rather than a loop \n",
    "#puts its all in obe big array - flatten\n",
    "#extracting arrays x,y,z the flattening it\n",
    "#if we dont have results we are going to replace it with a balnk numpy array\n",
    "pose = np.array([[res.x, res.y, res.z, res.visibility] for res in results.pose_landmarks.landmark]).flatten() if results.pose_landmarks else np.zeros(132)\n",
    "face = np.array([[res.x, res.y, res.z] for res in results.face_landmarks.landmark]).flatten() if results.face_landmarks else np.zeros(1404)\n",
    "lh = np.array([[res.x, res.y, res.z] for res in results.left_hand_landmarks.landmark]).flatten() if results.left_hand_landmarks else np.zeros(21*3)\n",
    "rh = np.array([[res.x, res.y, res.z] for res in results.right_hand_landmarks.landmark]).flatten() if results.right_hand_landmarks else np.zeros(21*3)"
   ]
  },
  {
   "cell_type": "code",
   "execution_count": 14,
   "id": "8be6ee6b",
   "metadata": {},
   "outputs": [
    {
     "data": {
      "text/plain": [
       "21"
      ]
     },
     "execution_count": 14,
     "metadata": {},
     "output_type": "execute_result"
    }
   ],
   "source": [
    "len(results.left_hand_landmarks.landmark)"
   ]
  },
  {
   "cell_type": "code",
   "execution_count": 15,
   "id": "02a1e239",
   "metadata": {},
   "outputs": [
    {
     "data": {
      "text/plain": [
       "(63,)"
      ]
     },
     "execution_count": 15,
     "metadata": {},
     "output_type": "execute_result"
    }
   ],
   "source": [
    "#replacing landamrk values with zeros in situations where we don't get landmark values\n",
    "#we are still passing an array with the same shape\n",
    "np.zeros(21*3).shape"
   ]
  },
  {
   "cell_type": "code",
   "execution_count": 16,
   "id": "e70a803d",
   "metadata": {},
   "outputs": [
    {
     "data": {
      "text/plain": [
       "(63,)"
      ]
     },
     "execution_count": 16,
     "metadata": {},
     "output_type": "execute_result"
    }
   ],
   "source": [
    "lh.shape"
   ]
  },
  {
   "cell_type": "code",
   "execution_count": 17,
   "id": "bd6b868a",
   "metadata": {
    "collapsed": true
   },
   "outputs": [
    {
     "data": {
      "text/plain": [
       "array([ 3.24072599e-01,  5.52306950e-01, -1.33716691e+00,  9.99893427e-01,\n",
       "        3.55221391e-01,  4.78116065e-01, -1.26445448e+00,  9.99640524e-01,\n",
       "        3.75700533e-01,  4.74513650e-01, -1.26402593e+00,  9.99738097e-01,\n",
       "        3.92579168e-01,  4.72262383e-01, -1.26355839e+00,  9.99615133e-01,\n",
       "        2.81679541e-01,  4.95546997e-01, -1.25881326e+00,  9.99625564e-01,\n",
       "        2.58680373e-01,  5.01452744e-01, -1.25790286e+00,  9.99699056e-01,\n",
       "        2.42673606e-01,  5.07880569e-01, -1.25812840e+00,  9.99553323e-01,\n",
       "        4.22090471e-01,  4.93418604e-01, -7.81909943e-01,  9.99750257e-01,\n",
       "        2.21004054e-01,  5.42910933e-01, -7.21144438e-01,  9.99754608e-01,\n",
       "        3.73164177e-01,  6.28416717e-01, -1.15712428e+00,  9.99815285e-01,\n",
       "        2.91890115e-01,  6.43306732e-01, -1.13955712e+00,  9.99742508e-01,\n",
       "        5.95969439e-01,  7.53546000e-01, -5.12980103e-01,  9.99217093e-01,\n",
       "        1.38462946e-01,  9.18473244e-01, -3.53502244e-01,  9.94215786e-01,\n",
       "        9.94562745e-01,  6.63552225e-01, -1.24881113e+00,  9.81068671e-01,\n",
       "        1.04447901e-01,  1.39502382e+00, -9.69887525e-02,  3.53661537e-01,\n",
       "        6.47022128e-01,  5.08366644e-01, -1.73841190e+00,  9.52868879e-01,\n",
       "        1.04465701e-01,  1.79698956e+00, -4.07805383e-01,  1.99154392e-01,\n",
       "        5.51335692e-01,  4.47359383e-01, -1.87812257e+00,  7.65974820e-01,\n",
       "        8.24264064e-02,  1.93939328e+00, -4.43047673e-01,  1.82196647e-01,\n",
       "        5.14273226e-01,  4.83611733e-01, -1.66061115e+00,  7.97312498e-01,\n",
       "        1.16705969e-01,  1.95508063e+00, -5.82103074e-01,  2.74872929e-01,\n",
       "        5.20337105e-01,  5.24484277e-01, -1.67751861e+00,  7.92850435e-01,\n",
       "        1.28713027e-01,  1.90512455e+00, -4.67143923e-01,  2.63818204e-01,\n",
       "        6.37812018e-01,  1.70541120e+00, -1.01963483e-01,  9.75917093e-03,\n",
       "        3.11632693e-01,  1.75211537e+00,  1.07843436e-01,  3.03235161e-03,\n",
       "        6.68681681e-01,  2.44188166e+00, -6.16803244e-02,  4.20767581e-03,\n",
       "        3.48654926e-01,  2.47062540e+00,  5.09381652e-01,  1.06904411e-03,\n",
       "        6.78733945e-01,  3.05407381e+00,  6.27793908e-01,  2.97029997e-04,\n",
       "        3.82233232e-01,  3.08349252e+00,  1.20511889e+00,  2.20882303e-05,\n",
       "        6.90892696e-01,  3.15414858e+00,  6.62762642e-01,  3.03004781e-04,\n",
       "        3.88880312e-01,  3.18063664e+00,  1.25402164e+00,  1.61355478e-04,\n",
       "        6.48179352e-01,  3.26768541e+00, -3.59352455e-02,  2.60367175e-04,\n",
       "        4.40881550e-01,  3.30885053e+00,  5.24370074e-01,  1.41821438e-04])"
      ]
     },
     "execution_count": 17,
     "metadata": {},
     "output_type": "execute_result"
    }
   ],
   "source": [
    "pose"
   ]
  },
  {
   "cell_type": "code",
   "execution_count": 18,
   "id": "2e101dd9",
   "metadata": {},
   "outputs": [],
   "source": [
    "def extract_keypoints(results):\n",
    "    pose = np.array([[res.x, res.y, res.z, res.visibility] for res in results.pose_landmarks.landmark]).flatten() if results.pose_landmarks else np.zeros(33*4)\n",
    "    face = np.array([[res.x, res.y, res.z] for res in results.face_landmarks.landmark]).flatten() if results.face_landmarks else np.zeros(468*3)\n",
    "    lh = np.array([[res.x, res.y, res.z] for res in results.left_hand_landmarks.landmark]).flatten() if results.left_hand_landmarks else np.zeros(21*3)\n",
    "    rh = np.array([[res.x, res.y, res.z] for res in results.right_hand_landmarks.landmark]).flatten() if results.right_hand_landmarks else np.zeros(21*3)\n",
    "    return np.concatenate([pose,face,lh,rh])"
   ]
  },
  {
   "cell_type": "code",
   "execution_count": 19,
   "id": "4df0046a",
   "metadata": {},
   "outputs": [],
   "source": [
    "result_test = extract_keypoints(results) #[:10]"
   ]
  },
  {
   "cell_type": "code",
   "execution_count": 20,
   "id": "d792c31c",
   "metadata": {},
   "outputs": [
    {
     "data": {
      "text/plain": [
       "array([ 0.3240726 ,  0.55230695, -1.33716691, ...,  0.        ,\n",
       "        0.        ,  0.        ])"
      ]
     },
     "execution_count": 20,
     "metadata": {},
     "output_type": "execute_result"
    }
   ],
   "source": [
    "result_test"
   ]
  },
  {
   "cell_type": "code",
   "execution_count": 21,
   "id": "b8155da0",
   "metadata": {},
   "outputs": [],
   "source": [
    "np.save('0', result_test)  #saving each frame as a np array"
   ]
  },
  {
   "cell_type": "code",
   "execution_count": 22,
   "id": "e65f919c",
   "metadata": {},
   "outputs": [
    {
     "data": {
      "text/plain": [
       "array([ 0.3240726 ,  0.55230695, -1.33716691, ...,  0.        ,\n",
       "        0.        ,  0.        ])"
      ]
     },
     "execution_count": 22,
     "metadata": {},
     "output_type": "execute_result"
    }
   ],
   "source": [
    "np.load('0.npy') #load up array"
   ]
  },
  {
   "cell_type": "markdown",
   "id": "9ee526a4",
   "metadata": {},
   "source": [
    "4 Set Up Folders for collection"
   ]
  },
  {
   "cell_type": "code",
   "execution_count": 23,
   "id": "1b0313bd",
   "metadata": {},
   "outputs": [],
   "source": [
    "#keypoints will form our frame values\n",
    "#the extracted keypoints to decodebour sign language\n",
    "\n",
    "#variable that holds path for exported data, numpy arrays\n",
    "DATA_PATH =  os.path.join('MP_DATA')\n",
    "#actions that we try to detect\n",
    "actions = np.array(['hello', 'thanks', 'iloveyou','walk', 'eat','run','drink'])\n",
    "#thirty videos worth of data\n",
    "no_sequences = 30\n",
    "#videos are going to be thirty frames in length\n",
    "sequence_length = 30"
   ]
  },
  {
   "cell_type": "code",
   "execution_count": 24,
   "id": "692c8c8d",
   "metadata": {},
   "outputs": [],
   "source": [
    "#folder for each action\n",
    "#hello\n",
    "## 0 sequence of actions \n",
    "## 1\n",
    "## 2 ....\n",
    "## 29\n",
    "#thanks\n",
    "#iloveyou\n",
    "#markedirs is going to make the subdirectories as well for each video\n",
    "#folder called mp data(data_path), subfolder for actions, and a sequence folder\n",
    "#if folders are already created we are going to skip"
   ]
  },
  {
   "cell_type": "code",
   "execution_count": 25,
   "id": "92db9214",
   "metadata": {},
   "outputs": [],
   "source": [
    "#create folders that are going to store our data\n",
    "for action in actions:\n",
    "    for sequence in range(no_sequences):\n",
    "        try:\n",
    "            os.makedirs(os.path.join(DATA_PATH, action, str(sequence)))\n",
    "        except:\n",
    "            pass"
   ]
  },
  {
   "cell_type": "markdown",
   "id": "238fdaa9",
   "metadata": {},
   "source": [
    "5 Collecting Keypoint values for keypoint values for training and testing"
   ]
  },
  {
   "cell_type": "code",
   "execution_count": 106,
   "id": "c3d461de",
   "metadata": {},
   "outputs": [],
   "source": [
    "#loop through and take a snapshot at each point in time\n",
    "#loop through each one of our actions\n",
    "#30 frames per video, for 30 videos, 3 times for each action\n",
    "\n",
    "cap = cv2.VideoCapture(0) #effectively accessing our webcam\n",
    "#access or set the mediapipe model\n",
    "with mp_holistic.Holistic(min_detection_confidence=0.5, min_tracking_confidence=0.5) as holistic:\n",
    "    \n",
    "    # loop through action\n",
    "    for action in actions:\n",
    "        #loop through sequences aka videos\n",
    "        for sequence in range(no_sequences):\n",
    "            #loop through video length aka sequence length\n",
    "            for frame_num in range(sequence_length):\n",
    "        \n",
    "                #read feed\n",
    "                ret, frame = cap.read()\n",
    "                #make detections\n",
    "                image, results = mediapipe_detection(frame, holistic)\n",
    "\n",
    "                #Draw landmarks\n",
    "                draw_styled_landmarks(image, results)\n",
    "                \n",
    "                #apply collection logic\n",
    "                if frame_num == 0: #at frame zero we take a break\n",
    "                    cv2.putText(image, 'STARTING COLLECTION', (120,200), #position\n",
    "                               cv2.FONT_HERSHEY_SIMPLEX, 1, (0,255,0), 4, cv2.LINE_AA)\n",
    "                    cv2.putText(image, 'Collecting frames for {} Video number {}'.format(action, sequence), (15,12),\n",
    "                               cv2.FONT_HERSHEY_SIMPLEX, 0.5, (0,0,255), 1, cv2.LINE_AA) #line width, line type\n",
    "                    #show to the user\n",
    "                    cv2.imshow('Feed', image)\n",
    "                    cv2.waitKey(2000)\n",
    "                #if not at frame 0\n",
    "                else: \n",
    "                    cv2.putText(image, 'Collecting frames for {} Video number {}'.format(action, sequence), (15,12),\n",
    "                               cv2.FONT_HERSHEY_SIMPLEX, 0.5, (0,0,255), 1, cv2.LINE_AA)\n",
    "                    #show to the user\n",
    "                    cv2.imshow('Feed', image)\n",
    "                \n",
    "                #Export keypoints and save them in our folders\n",
    "                keypoints = extract_keypoints(results)\n",
    "                npy_path = os.path.join(DATA_PATH, action, str(sequence), str(frame_num))\n",
    "                np.save(npy_path, keypoints)\n",
    "                \n",
    "\n",
    "                \n",
    "               \n",
    "                #breaking gracefully going to wait for a key to be pressed inside of our frame\n",
    "                if cv2.waitKey(10) & 0xFF == ord('q'):\n",
    "                    break\n",
    "    cap.release() #releases our webcam\n",
    "    cv2.destroyAllWindows() #closes down our frame"
   ]
  },
  {
   "cell_type": "code",
   "execution_count": 32,
   "id": "5ebb1bf3",
   "metadata": {},
   "outputs": [],
   "source": [
    "cap.release() #releases our webcam\n",
    "cv2.destroyAllWindows() #closes down our frame"
   ]
  },
  {
   "cell_type": "markdown",
   "id": "c5012b4d",
   "metadata": {},
   "source": [
    "6 Prepocess Data and get labels and features"
   ]
  },
  {
   "cell_type": "code",
   "execution_count": 68,
   "id": "1148d47e",
   "metadata": {},
   "outputs": [],
   "source": [
    "from sklearn.model_selection import train_test_split # allow us to partion our data into a training and test partion\n",
    "from tensorflow.keras.utils import to_categorical   #to convert data into one hot encoded data"
   ]
  },
  {
   "cell_type": "code",
   "execution_count": 69,
   "id": "f2f60a29",
   "metadata": {},
   "outputs": [],
   "source": [
    "#created our label map\n",
    "#creating a dictionary that has  the label hello, thanks and iloveyou\n",
    "#looing through our actions\n",
    "label_map = {label:num for num, label in enumerate(actions)}"
   ]
  },
  {
   "cell_type": "code",
   "execution_count": 70,
   "id": "e3f15cbd",
   "metadata": {},
   "outputs": [
    {
     "data": {
      "text/plain": [
       "{'hello': 0,\n",
       " 'thanks': 1,\n",
       " 'iloveyou': 2,\n",
       " 'walk': 3,\n",
       " 'eat': 4,\n",
       " 'run': 5,\n",
       " 'drink': 6}"
      ]
     },
     "execution_count": 70,
     "metadata": {},
     "output_type": "execute_result"
    }
   ],
   "source": [
    "label_map"
   ]
  },
  {
   "cell_type": "code",
   "execution_count": 71,
   "id": "cca7acab",
   "metadata": {},
   "outputs": [],
   "source": [
    "#blank arrays sequences represent feature data(x data), labels represents labels(y data)\n",
    "#use features and train a model to represent the relationship between our labels\n",
    "sequences, labels = [], [] \n",
    "for action in actions:\n",
    "    for sequence in range(no_sequences):\n",
    "        window = []    #all different frames for that particular sequence\n",
    "        for frame_num in range(sequence_length):\n",
    "            #load up that frame by passing the full path to a differeny numpy array   frame number and add it to the windwo\n",
    "            res = np.load(os.path.join(DATA_PATH, action, str(sequence), \"{}.npy\".format(frame_num)))\n",
    "            window.append(res)\n",
    "        #after a video is done append to the sequences\n",
    "        sequences.append(window)\n",
    "        #appending the label and using the label map and passing it through our action\n",
    "        labels.append(label_map[action])"
   ]
  },
  {
   "cell_type": "code",
   "execution_count": 72,
   "id": "462f77fd",
   "metadata": {},
   "outputs": [
    {
     "data": {
      "text/plain": [
       "(210, 30, 1662)"
      ]
     },
     "execution_count": 72,
     "metadata": {},
     "output_type": "execute_result"
    }
   ],
   "source": [
    "np.array(sequences).shape"
   ]
  },
  {
   "cell_type": "code",
   "execution_count": 73,
   "id": "64731bb9",
   "metadata": {},
   "outputs": [
    {
     "data": {
      "text/plain": [
       "(210,)"
      ]
     },
     "execution_count": 73,
     "metadata": {},
     "output_type": "execute_result"
    }
   ],
   "source": [
    "np.array(labels).shape"
   ]
  },
  {
   "cell_type": "code",
   "execution_count": 74,
   "id": "5fbdb1d4",
   "metadata": {},
   "outputs": [],
   "source": [
    "#preprocessing this to get it into a format that we can start working with\n",
    "X = np.array(sequences)"
   ]
  },
  {
   "cell_type": "code",
   "execution_count": 75,
   "id": "6c52a5b2",
   "metadata": {},
   "outputs": [
    {
     "data": {
      "text/plain": [
       "(210, 30, 1662)"
      ]
     },
     "execution_count": 75,
     "metadata": {},
     "output_type": "execute_result"
    }
   ],
   "source": [
    "X.shape"
   ]
  },
  {
   "cell_type": "code",
   "execution_count": 76,
   "id": "44a99bc3",
   "metadata": {},
   "outputs": [],
   "source": [
    "y = to_categorical(labels).astype(int)"
   ]
  },
  {
   "cell_type": "code",
   "execution_count": 77,
   "id": "acf4d6a4",
   "metadata": {},
   "outputs": [
    {
     "data": {
      "text/plain": [
       "array([[1, 0, 0, ..., 0, 0, 0],\n",
       "       [1, 0, 0, ..., 0, 0, 0],\n",
       "       [1, 0, 0, ..., 0, 0, 0],\n",
       "       ...,\n",
       "       [0, 0, 0, ..., 0, 0, 1],\n",
       "       [0, 0, 0, ..., 0, 0, 1],\n",
       "       [0, 0, 0, ..., 0, 0, 1]])"
      ]
     },
     "execution_count": 77,
     "metadata": {},
     "output_type": "execute_result"
    }
   ],
   "source": [
    "#converted our initial labels to a one hot encoded representation\n",
    "y"
   ]
  },
  {
   "cell_type": "code",
   "execution_count": 78,
   "id": "f46cb9b2",
   "metadata": {},
   "outputs": [
    {
     "data": {
      "text/plain": [
       "(210, 7)"
      ]
     },
     "execution_count": 78,
     "metadata": {},
     "output_type": "execute_result"
    }
   ],
   "source": [
    "y.shape"
   ]
  },
  {
   "cell_type": "code",
   "execution_count": 79,
   "id": "cef28d1a",
   "metadata": {},
   "outputs": [],
   "source": [
    "#Training and testing partition\n",
    "X_train, X_test, y_train, y_test = train_test_split(X,y,test_size=0.05) #test partition is going to be 5% of our data"
   ]
  },
  {
   "cell_type": "code",
   "execution_count": 80,
   "id": "36ee414b",
   "metadata": {},
   "outputs": [
    {
     "data": {
      "text/plain": [
       "(199, 7)"
      ]
     },
     "execution_count": 80,
     "metadata": {},
     "output_type": "execute_result"
    }
   ],
   "source": [
    "y_train.shape"
   ]
  },
  {
   "cell_type": "markdown",
   "id": "b4946d18",
   "metadata": {},
   "source": [
    "7 Build and Train LSTM Neural Network"
   ]
  },
  {
   "cell_type": "code",
   "execution_count": 81,
   "id": "a6a52f35",
   "metadata": {},
   "outputs": [],
   "source": [
    "from tensorflow.keras.models import Sequential\n",
    "from tensorflow.keras.layers import LSTM, Dense\n",
    "from tensorflow.keras.callbacks import TensorBoard #allows us to form some logging inside of tensor board if we want to go and trace and monitor the model as it is training"
   ]
  },
  {
   "cell_type": "code",
   "execution_count": 82,
   "id": "8e4622e7",
   "metadata": {},
   "outputs": [],
   "source": [
    "#create a log directory and set up our tensorflow callback\n",
    "log_dir = os.path.join('Logs')\n",
    "tb_callback = TensorBoard(log_dir=log_dir)"
   ]
  },
  {
   "cell_type": "code",
   "execution_count": 83,
   "id": "22dff19e",
   "metadata": {},
   "outputs": [],
   "source": [
    "#neural network architecture\n",
    "model = Sequential()   #instantiating the model\n",
    "model.add(LSTM(64, return_sequences=True, activation='relu', input_shape=(30,1662))) #64 lstm units, return sequences coz the next layer will need them\n",
    "model.add(LSTM(128, return_sequences=True, activation='relu'))\n",
    "model.add(LSTM(128, return_sequences=False, activation='relu'))\n",
    "model.add(Dense(64, activation='relu'))\n",
    "model.add(Dense(32, activation='relu'))\n",
    "model.add(Dense(actions.shape[0], activation='softmax'))"
   ]
  },
  {
   "cell_type": "code",
   "execution_count": 84,
   "id": "33ff9cc7",
   "metadata": {},
   "outputs": [
    {
     "data": {
      "text/plain": [
       "'hello'"
      ]
     },
     "execution_count": 84,
     "metadata": {},
     "output_type": "execute_result"
    }
   ],
   "source": [
    "res1=[0.7, 0.2, 0.1]\n",
    "res1\n",
    "np.argmax(res1)\n",
    "actions[np.argmax(res1)]"
   ]
  },
  {
   "cell_type": "code",
   "execution_count": 140,
   "id": "65c89d24",
   "metadata": {},
   "outputs": [],
   "source": [
    "#compile the model and fit it\n",
    "#loss-multiclass classification model\n",
    "model.compile(optimizer='Adam', loss='categorical_crossentropy', metrics=['categorical_accuracy'])"
   ]
  },
  {
   "cell_type": "code",
   "execution_count": 141,
   "id": "1335f557",
   "metadata": {},
   "outputs": [
    {
     "name": "stdout",
     "output_type": "stream",
     "text": [
      "Epoch 1/2000\n",
      "7/7 [==============================] - 10s 984ms/step - loss: 1.6490 - categorical_accuracy: 0.4171\n",
      "Epoch 2/2000\n",
      "7/7 [==============================] - 0s 58ms/step - loss: 1.1539 - categorical_accuracy: 0.4925\n",
      "Epoch 3/2000\n",
      "7/7 [==============================] - 0s 59ms/step - loss: 0.9584 - categorical_accuracy: 0.6683\n",
      "Epoch 4/2000\n",
      "7/7 [==============================] - 0s 58ms/step - loss: 0.8025 - categorical_accuracy: 0.6432\n",
      "Epoch 5/2000\n",
      "7/7 [==============================] - 0s 59ms/step - loss: 0.6325 - categorical_accuracy: 0.7437\n",
      "Epoch 6/2000\n",
      "7/7 [==============================] - 0s 59ms/step - loss: 0.6001 - categorical_accuracy: 0.7437\n",
      "Epoch 7/2000\n",
      "7/7 [==============================] - 0s 58ms/step - loss: 0.5670 - categorical_accuracy: 0.7337\n",
      "Epoch 8/2000\n",
      "7/7 [==============================] - 0s 57ms/step - loss: 0.5425 - categorical_accuracy: 0.7638\n",
      "Epoch 9/2000\n",
      "7/7 [==============================] - 0s 58ms/step - loss: 0.5419 - categorical_accuracy: 0.7588\n",
      "Epoch 10/2000\n",
      "7/7 [==============================] - 0s 56ms/step - loss: 0.4593 - categorical_accuracy: 0.8191\n",
      "Epoch 11/2000\n",
      "7/7 [==============================] - 0s 58ms/step - loss: 0.4388 - categorical_accuracy: 0.7789\n",
      "Epoch 12/2000\n",
      "7/7 [==============================] - 0s 57ms/step - loss: 0.3802 - categorical_accuracy: 0.8442\n",
      "Epoch 13/2000\n",
      "7/7 [==============================] - 0s 58ms/step - loss: 0.3802 - categorical_accuracy: 0.8392\n",
      "Epoch 14/2000\n",
      "7/7 [==============================] - 0s 57ms/step - loss: 0.6321 - categorical_accuracy: 0.7286\n",
      "Epoch 15/2000\n",
      "7/7 [==============================] - 0s 57ms/step - loss: 0.4619 - categorical_accuracy: 0.8141\n",
      "Epoch 16/2000\n",
      "7/7 [==============================] - 0s 59ms/step - loss: 0.4843 - categorical_accuracy: 0.7789\n",
      "Epoch 17/2000\n",
      "4/7 [================>.............] - ETA: 0s - loss: 0.5447 - categorical_accuracy: 0.7812"
     ]
    },
    {
     "ename": "KeyboardInterrupt",
     "evalue": "",
     "output_type": "error",
     "traceback": [
      "\u001b[1;31m---------------------------------------------------------------------------\u001b[0m",
      "\u001b[1;31mKeyboardInterrupt\u001b[0m                         Traceback (most recent call last)",
      "Input \u001b[1;32mIn [141]\u001b[0m, in \u001b[0;36m<cell line: 2>\u001b[1;34m()\u001b[0m\n\u001b[0;32m      1\u001b[0m \u001b[38;5;66;03m#fit and train our model\u001b[39;00m\n\u001b[1;32m----> 2\u001b[0m \u001b[43mmodel\u001b[49m\u001b[38;5;241;43m.\u001b[39;49m\u001b[43mfit\u001b[49m\u001b[43m(\u001b[49m\u001b[43mX_train\u001b[49m\u001b[43m,\u001b[49m\u001b[43m \u001b[49m\u001b[43my_train\u001b[49m\u001b[43m,\u001b[49m\u001b[43m \u001b[49m\u001b[43mepochs\u001b[49m\u001b[38;5;241;43m=\u001b[39;49m\u001b[38;5;241;43m2000\u001b[39;49m\u001b[43m,\u001b[49m\u001b[43m \u001b[49m\u001b[43mcallbacks\u001b[49m\u001b[38;5;241;43m=\u001b[39;49m\u001b[43m[\u001b[49m\u001b[43mtb_callback\u001b[49m\u001b[43m]\u001b[49m\u001b[43m)\u001b[49m\n",
      "File \u001b[1;32m~\\anaconda3\\lib\\site-packages\\tensorflow\\python\\keras\\engine\\training.py:1178\u001b[0m, in \u001b[0;36mModel.fit\u001b[1;34m(self, x, y, batch_size, epochs, verbose, callbacks, validation_split, validation_data, shuffle, class_weight, sample_weight, initial_epoch, steps_per_epoch, validation_steps, validation_batch_size, validation_freq, max_queue_size, workers, use_multiprocessing)\u001b[0m\n\u001b[0;32m   1171\u001b[0m \u001b[38;5;28;01mwith\u001b[39;00m trace\u001b[38;5;241m.\u001b[39mTrace(\n\u001b[0;32m   1172\u001b[0m     \u001b[38;5;124m'\u001b[39m\u001b[38;5;124mtrain\u001b[39m\u001b[38;5;124m'\u001b[39m,\n\u001b[0;32m   1173\u001b[0m     epoch_num\u001b[38;5;241m=\u001b[39mepoch,\n\u001b[0;32m   1174\u001b[0m     step_num\u001b[38;5;241m=\u001b[39mstep,\n\u001b[0;32m   1175\u001b[0m     batch_size\u001b[38;5;241m=\u001b[39mbatch_size,\n\u001b[0;32m   1176\u001b[0m     _r\u001b[38;5;241m=\u001b[39m\u001b[38;5;241m1\u001b[39m):\n\u001b[0;32m   1177\u001b[0m   callbacks\u001b[38;5;241m.\u001b[39mon_train_batch_begin(step)\n\u001b[1;32m-> 1178\u001b[0m   tmp_logs \u001b[38;5;241m=\u001b[39m \u001b[38;5;28;43mself\u001b[39;49m\u001b[38;5;241;43m.\u001b[39;49m\u001b[43mtrain_function\u001b[49m\u001b[43m(\u001b[49m\u001b[43miterator\u001b[49m\u001b[43m)\u001b[49m\n\u001b[0;32m   1179\u001b[0m   \u001b[38;5;28;01mif\u001b[39;00m data_handler\u001b[38;5;241m.\u001b[39mshould_sync:\n\u001b[0;32m   1180\u001b[0m     context\u001b[38;5;241m.\u001b[39masync_wait()\n",
      "File \u001b[1;32m~\\anaconda3\\lib\\site-packages\\tensorflow\\python\\eager\\def_function.py:889\u001b[0m, in \u001b[0;36mFunction.__call__\u001b[1;34m(self, *args, **kwds)\u001b[0m\n\u001b[0;32m    886\u001b[0m compiler \u001b[38;5;241m=\u001b[39m \u001b[38;5;124m\"\u001b[39m\u001b[38;5;124mxla\u001b[39m\u001b[38;5;124m\"\u001b[39m \u001b[38;5;28;01mif\u001b[39;00m \u001b[38;5;28mself\u001b[39m\u001b[38;5;241m.\u001b[39m_jit_compile \u001b[38;5;28;01melse\u001b[39;00m \u001b[38;5;124m\"\u001b[39m\u001b[38;5;124mnonXla\u001b[39m\u001b[38;5;124m\"\u001b[39m\n\u001b[0;32m    888\u001b[0m \u001b[38;5;28;01mwith\u001b[39;00m OptionalXlaContext(\u001b[38;5;28mself\u001b[39m\u001b[38;5;241m.\u001b[39m_jit_compile):\n\u001b[1;32m--> 889\u001b[0m   result \u001b[38;5;241m=\u001b[39m \u001b[38;5;28mself\u001b[39m\u001b[38;5;241m.\u001b[39m_call(\u001b[38;5;241m*\u001b[39margs, \u001b[38;5;241m*\u001b[39m\u001b[38;5;241m*\u001b[39mkwds)\n\u001b[0;32m    891\u001b[0m new_tracing_count \u001b[38;5;241m=\u001b[39m \u001b[38;5;28mself\u001b[39m\u001b[38;5;241m.\u001b[39mexperimental_get_tracing_count()\n\u001b[0;32m    892\u001b[0m without_tracing \u001b[38;5;241m=\u001b[39m (tracing_count \u001b[38;5;241m==\u001b[39m new_tracing_count)\n",
      "File \u001b[1;32m~\\anaconda3\\lib\\site-packages\\tensorflow\\python\\eager\\def_function.py:917\u001b[0m, in \u001b[0;36mFunction._call\u001b[1;34m(self, *args, **kwds)\u001b[0m\n\u001b[0;32m    914\u001b[0m   \u001b[38;5;28mself\u001b[39m\u001b[38;5;241m.\u001b[39m_lock\u001b[38;5;241m.\u001b[39mrelease()\n\u001b[0;32m    915\u001b[0m   \u001b[38;5;66;03m# In this case we have created variables on the first call, so we run the\u001b[39;00m\n\u001b[0;32m    916\u001b[0m   \u001b[38;5;66;03m# defunned version which is guaranteed to never create variables.\u001b[39;00m\n\u001b[1;32m--> 917\u001b[0m   \u001b[38;5;28;01mreturn\u001b[39;00m \u001b[38;5;28mself\u001b[39m\u001b[38;5;241m.\u001b[39m_stateless_fn(\u001b[38;5;241m*\u001b[39margs, \u001b[38;5;241m*\u001b[39m\u001b[38;5;241m*\u001b[39mkwds)  \u001b[38;5;66;03m# pylint: disable=not-callable\u001b[39;00m\n\u001b[0;32m    918\u001b[0m \u001b[38;5;28;01melif\u001b[39;00m \u001b[38;5;28mself\u001b[39m\u001b[38;5;241m.\u001b[39m_stateful_fn \u001b[38;5;129;01mis\u001b[39;00m \u001b[38;5;129;01mnot\u001b[39;00m \u001b[38;5;28;01mNone\u001b[39;00m:\n\u001b[0;32m    919\u001b[0m   \u001b[38;5;66;03m# Release the lock early so that multiple threads can perform the call\u001b[39;00m\n\u001b[0;32m    920\u001b[0m   \u001b[38;5;66;03m# in parallel.\u001b[39;00m\n\u001b[0;32m    921\u001b[0m   \u001b[38;5;28mself\u001b[39m\u001b[38;5;241m.\u001b[39m_lock\u001b[38;5;241m.\u001b[39mrelease()\n",
      "File \u001b[1;32m~\\anaconda3\\lib\\site-packages\\tensorflow\\python\\eager\\function.py:3023\u001b[0m, in \u001b[0;36mFunction.__call__\u001b[1;34m(self, *args, **kwargs)\u001b[0m\n\u001b[0;32m   3020\u001b[0m \u001b[38;5;28;01mwith\u001b[39;00m \u001b[38;5;28mself\u001b[39m\u001b[38;5;241m.\u001b[39m_lock:\n\u001b[0;32m   3021\u001b[0m   (graph_function,\n\u001b[0;32m   3022\u001b[0m    filtered_flat_args) \u001b[38;5;241m=\u001b[39m \u001b[38;5;28mself\u001b[39m\u001b[38;5;241m.\u001b[39m_maybe_define_function(args, kwargs)\n\u001b[1;32m-> 3023\u001b[0m \u001b[38;5;28;01mreturn\u001b[39;00m \u001b[43mgraph_function\u001b[49m\u001b[38;5;241;43m.\u001b[39;49m\u001b[43m_call_flat\u001b[49m\u001b[43m(\u001b[49m\n\u001b[0;32m   3024\u001b[0m \u001b[43m    \u001b[49m\u001b[43mfiltered_flat_args\u001b[49m\u001b[43m,\u001b[49m\u001b[43m \u001b[49m\u001b[43mcaptured_inputs\u001b[49m\u001b[38;5;241;43m=\u001b[39;49m\u001b[43mgraph_function\u001b[49m\u001b[38;5;241;43m.\u001b[39;49m\u001b[43mcaptured_inputs\u001b[49m\u001b[43m)\u001b[49m\n",
      "File \u001b[1;32m~\\anaconda3\\lib\\site-packages\\tensorflow\\python\\eager\\function.py:1960\u001b[0m, in \u001b[0;36mConcreteFunction._call_flat\u001b[1;34m(self, args, captured_inputs, cancellation_manager)\u001b[0m\n\u001b[0;32m   1956\u001b[0m possible_gradient_type \u001b[38;5;241m=\u001b[39m gradients_util\u001b[38;5;241m.\u001b[39mPossibleTapeGradientTypes(args)\n\u001b[0;32m   1957\u001b[0m \u001b[38;5;28;01mif\u001b[39;00m (possible_gradient_type \u001b[38;5;241m==\u001b[39m gradients_util\u001b[38;5;241m.\u001b[39mPOSSIBLE_GRADIENT_TYPES_NONE\n\u001b[0;32m   1958\u001b[0m     \u001b[38;5;129;01mand\u001b[39;00m executing_eagerly):\n\u001b[0;32m   1959\u001b[0m   \u001b[38;5;66;03m# No tape is watching; skip to running the function.\u001b[39;00m\n\u001b[1;32m-> 1960\u001b[0m   \u001b[38;5;28;01mreturn\u001b[39;00m \u001b[38;5;28mself\u001b[39m\u001b[38;5;241m.\u001b[39m_build_call_outputs(\u001b[38;5;28;43mself\u001b[39;49m\u001b[38;5;241;43m.\u001b[39;49m\u001b[43m_inference_function\u001b[49m\u001b[38;5;241;43m.\u001b[39;49m\u001b[43mcall\u001b[49m\u001b[43m(\u001b[49m\n\u001b[0;32m   1961\u001b[0m \u001b[43m      \u001b[49m\u001b[43mctx\u001b[49m\u001b[43m,\u001b[49m\u001b[43m \u001b[49m\u001b[43margs\u001b[49m\u001b[43m,\u001b[49m\u001b[43m \u001b[49m\u001b[43mcancellation_manager\u001b[49m\u001b[38;5;241;43m=\u001b[39;49m\u001b[43mcancellation_manager\u001b[49m\u001b[43m)\u001b[49m)\n\u001b[0;32m   1962\u001b[0m forward_backward \u001b[38;5;241m=\u001b[39m \u001b[38;5;28mself\u001b[39m\u001b[38;5;241m.\u001b[39m_select_forward_and_backward_functions(\n\u001b[0;32m   1963\u001b[0m     args,\n\u001b[0;32m   1964\u001b[0m     possible_gradient_type,\n\u001b[0;32m   1965\u001b[0m     executing_eagerly)\n\u001b[0;32m   1966\u001b[0m forward_function, args_with_tangents \u001b[38;5;241m=\u001b[39m forward_backward\u001b[38;5;241m.\u001b[39mforward()\n",
      "File \u001b[1;32m~\\anaconda3\\lib\\site-packages\\tensorflow\\python\\eager\\function.py:591\u001b[0m, in \u001b[0;36m_EagerDefinedFunction.call\u001b[1;34m(self, ctx, args, cancellation_manager)\u001b[0m\n\u001b[0;32m    589\u001b[0m \u001b[38;5;28;01mwith\u001b[39;00m _InterpolateFunctionError(\u001b[38;5;28mself\u001b[39m):\n\u001b[0;32m    590\u001b[0m   \u001b[38;5;28;01mif\u001b[39;00m cancellation_manager \u001b[38;5;129;01mis\u001b[39;00m \u001b[38;5;28;01mNone\u001b[39;00m:\n\u001b[1;32m--> 591\u001b[0m     outputs \u001b[38;5;241m=\u001b[39m \u001b[43mexecute\u001b[49m\u001b[38;5;241;43m.\u001b[39;49m\u001b[43mexecute\u001b[49m\u001b[43m(\u001b[49m\n\u001b[0;32m    592\u001b[0m \u001b[43m        \u001b[49m\u001b[38;5;28;43mstr\u001b[39;49m\u001b[43m(\u001b[49m\u001b[38;5;28;43mself\u001b[39;49m\u001b[38;5;241;43m.\u001b[39;49m\u001b[43msignature\u001b[49m\u001b[38;5;241;43m.\u001b[39;49m\u001b[43mname\u001b[49m\u001b[43m)\u001b[49m\u001b[43m,\u001b[49m\n\u001b[0;32m    593\u001b[0m \u001b[43m        \u001b[49m\u001b[43mnum_outputs\u001b[49m\u001b[38;5;241;43m=\u001b[39;49m\u001b[38;5;28;43mself\u001b[39;49m\u001b[38;5;241;43m.\u001b[39;49m\u001b[43m_num_outputs\u001b[49m\u001b[43m,\u001b[49m\n\u001b[0;32m    594\u001b[0m \u001b[43m        \u001b[49m\u001b[43minputs\u001b[49m\u001b[38;5;241;43m=\u001b[39;49m\u001b[43margs\u001b[49m\u001b[43m,\u001b[49m\n\u001b[0;32m    595\u001b[0m \u001b[43m        \u001b[49m\u001b[43mattrs\u001b[49m\u001b[38;5;241;43m=\u001b[39;49m\u001b[43mattrs\u001b[49m\u001b[43m,\u001b[49m\n\u001b[0;32m    596\u001b[0m \u001b[43m        \u001b[49m\u001b[43mctx\u001b[49m\u001b[38;5;241;43m=\u001b[39;49m\u001b[43mctx\u001b[49m\u001b[43m)\u001b[49m\n\u001b[0;32m    597\u001b[0m   \u001b[38;5;28;01melse\u001b[39;00m:\n\u001b[0;32m    598\u001b[0m     outputs \u001b[38;5;241m=\u001b[39m execute\u001b[38;5;241m.\u001b[39mexecute_with_cancellation(\n\u001b[0;32m    599\u001b[0m         \u001b[38;5;28mstr\u001b[39m(\u001b[38;5;28mself\u001b[39m\u001b[38;5;241m.\u001b[39msignature\u001b[38;5;241m.\u001b[39mname),\n\u001b[0;32m    600\u001b[0m         num_outputs\u001b[38;5;241m=\u001b[39m\u001b[38;5;28mself\u001b[39m\u001b[38;5;241m.\u001b[39m_num_outputs,\n\u001b[1;32m   (...)\u001b[0m\n\u001b[0;32m    603\u001b[0m         ctx\u001b[38;5;241m=\u001b[39mctx,\n\u001b[0;32m    604\u001b[0m         cancellation_manager\u001b[38;5;241m=\u001b[39mcancellation_manager)\n",
      "File \u001b[1;32m~\\anaconda3\\lib\\site-packages\\tensorflow\\python\\eager\\execute.py:59\u001b[0m, in \u001b[0;36mquick_execute\u001b[1;34m(op_name, num_outputs, inputs, attrs, ctx, name)\u001b[0m\n\u001b[0;32m     57\u001b[0m \u001b[38;5;28;01mtry\u001b[39;00m:\n\u001b[0;32m     58\u001b[0m   ctx\u001b[38;5;241m.\u001b[39mensure_initialized()\n\u001b[1;32m---> 59\u001b[0m   tensors \u001b[38;5;241m=\u001b[39m \u001b[43mpywrap_tfe\u001b[49m\u001b[38;5;241;43m.\u001b[39;49m\u001b[43mTFE_Py_Execute\u001b[49m\u001b[43m(\u001b[49m\u001b[43mctx\u001b[49m\u001b[38;5;241;43m.\u001b[39;49m\u001b[43m_handle\u001b[49m\u001b[43m,\u001b[49m\u001b[43m \u001b[49m\u001b[43mdevice_name\u001b[49m\u001b[43m,\u001b[49m\u001b[43m \u001b[49m\u001b[43mop_name\u001b[49m\u001b[43m,\u001b[49m\n\u001b[0;32m     60\u001b[0m \u001b[43m                                      \u001b[49m\u001b[43minputs\u001b[49m\u001b[43m,\u001b[49m\u001b[43m \u001b[49m\u001b[43mattrs\u001b[49m\u001b[43m,\u001b[49m\u001b[43m \u001b[49m\u001b[43mnum_outputs\u001b[49m\u001b[43m)\u001b[49m\n\u001b[0;32m     61\u001b[0m \u001b[38;5;28;01mexcept\u001b[39;00m core\u001b[38;5;241m.\u001b[39m_NotOkStatusException \u001b[38;5;28;01mas\u001b[39;00m e:\n\u001b[0;32m     62\u001b[0m   \u001b[38;5;28;01mif\u001b[39;00m name \u001b[38;5;129;01mis\u001b[39;00m \u001b[38;5;129;01mnot\u001b[39;00m \u001b[38;5;28;01mNone\u001b[39;00m:\n",
      "\u001b[1;31mKeyboardInterrupt\u001b[0m: "
     ]
    }
   ],
   "source": [
    "#fit and train our model\n",
    "model.fit(X_train, y_train, epochs=2000, callbacks=[tb_callback])"
   ]
  },
  {
   "cell_type": "code",
   "execution_count": 142,
   "id": "3b942ce3",
   "metadata": {},
   "outputs": [
    {
     "name": "stdout",
     "output_type": "stream",
     "text": [
      "Model: \"sequential_1\"\n",
      "_________________________________________________________________\n",
      "Layer (type)                 Output Shape              Param #   \n",
      "=================================================================\n",
      "lstm_3 (LSTM)                (None, 30, 64)            442112    \n",
      "_________________________________________________________________\n",
      "lstm_4 (LSTM)                (None, 30, 128)           98816     \n",
      "_________________________________________________________________\n",
      "lstm_5 (LSTM)                (None, 128)               131584    \n",
      "_________________________________________________________________\n",
      "dense_3 (Dense)              (None, 64)                8256      \n",
      "_________________________________________________________________\n",
      "dense_4 (Dense)              (None, 32)                2080      \n",
      "_________________________________________________________________\n",
      "dense_5 (Dense)              (None, 7)                 231       \n",
      "=================================================================\n",
      "Total params: 683,079\n",
      "Trainable params: 683,079\n",
      "Non-trainable params: 0\n",
      "_________________________________________________________________\n"
     ]
    }
   ],
   "source": [
    "#what our model looks like\n",
    "model.summary()"
   ]
  },
  {
   "cell_type": "markdown",
   "id": "9d3a1e4c",
   "metadata": {},
   "source": [
    "8 Make predictions"
   ]
  },
  {
   "cell_type": "code",
   "execution_count": 143,
   "id": "be93392f",
   "metadata": {},
   "outputs": [],
   "source": [
    "res=model.predict(X_test)"
   ]
  },
  {
   "cell_type": "code",
   "execution_count": 144,
   "id": "240567aa",
   "metadata": {},
   "outputs": [
    {
     "data": {
      "text/plain": [
       "'thanks'"
      ]
     },
     "execution_count": 144,
     "metadata": {},
     "output_type": "execute_result"
    }
   ],
   "source": [
    "actions[np.argmax(res[0])]"
   ]
  },
  {
   "cell_type": "code",
   "execution_count": 145,
   "id": "7e78c617",
   "metadata": {},
   "outputs": [
    {
     "data": {
      "text/plain": [
       "'drink'"
      ]
     },
     "execution_count": 145,
     "metadata": {},
     "output_type": "execute_result"
    }
   ],
   "source": [
    "actions[np.argmax(y_test[1])]"
   ]
  },
  {
   "cell_type": "code",
   "execution_count": 146,
   "id": "4ad8a4e9",
   "metadata": {},
   "outputs": [
    {
     "data": {
      "text/plain": [
       "'eat'"
      ]
     },
     "execution_count": 146,
     "metadata": {},
     "output_type": "execute_result"
    }
   ],
   "source": [
    "actions[np.argmax(y_test[2])]"
   ]
  },
  {
   "cell_type": "markdown",
   "id": "bc7db305",
   "metadata": {},
   "source": [
    "#### Save weights"
   ]
  },
  {
   "cell_type": "code",
   "execution_count": 147,
   "id": "de0d4e73",
   "metadata": {},
   "outputs": [],
   "source": [
    "model.save('action.h5')"
   ]
  },
  {
   "cell_type": "code",
   "execution_count": 51,
   "id": "00a8473d",
   "metadata": {},
   "outputs": [],
   "source": [
    " #del  model"
   ]
  },
  {
   "cell_type": "code",
   "execution_count": 148,
   "id": "eb26b2f9",
   "metadata": {},
   "outputs": [],
   "source": [
    "#load weghts\n",
    "model.load_weights('action.h5')"
   ]
  },
  {
   "cell_type": "markdown",
   "id": "431bd52e",
   "metadata": {},
   "source": [
    "Evaluation using Confusion Matrix and Accuracy"
   ]
  },
  {
   "cell_type": "code",
   "execution_count": 149,
   "id": "72a80c05",
   "metadata": {},
   "outputs": [],
   "source": [
    "from sklearn.metrics import multilabel_confusion_matrix, accuracy_score\n",
    "#mmultilabel gives us a confusion matrix for each of our labels evaluates what is being detected as a true positive and true negative and a false positive and false negative\n"
   ]
  },
  {
   "cell_type": "code",
   "execution_count": 150,
   "id": "8d1543a3",
   "metadata": {},
   "outputs": [],
   "source": [
    "yhat = model.predict(X_test)"
   ]
  },
  {
   "cell_type": "code",
   "execution_count": 151,
   "id": "f08347f6",
   "metadata": {},
   "outputs": [],
   "source": [
    "ytrue = np.argmax(y_test, axis=1).tolist()\n",
    "yhat = np.argmax(yhat, axis=1).tolist()"
   ]
  },
  {
   "cell_type": "code",
   "execution_count": 152,
   "id": "2687cb02",
   "metadata": {},
   "outputs": [
    {
     "data": {
      "text/plain": [
       "[1, 6, 6, 1, 0, 5, 4, 1, 6, 6, 6]"
      ]
     },
     "execution_count": 152,
     "metadata": {},
     "output_type": "execute_result"
    }
   ],
   "source": [
    "yhat"
   ]
  },
  {
   "cell_type": "code",
   "execution_count": 153,
   "id": "7b224d7b",
   "metadata": {},
   "outputs": [
    {
     "data": {
      "text/plain": [
       "[5, 6, 4, 1, 0, 5, 3, 1, 6, 4, 6]"
      ]
     },
     "execution_count": 153,
     "metadata": {},
     "output_type": "execute_result"
    }
   ],
   "source": [
    "ytrue"
   ]
  },
  {
   "cell_type": "code",
   "execution_count": 154,
   "id": "547954cf",
   "metadata": {},
   "outputs": [
    {
     "data": {
      "text/plain": [
       "array([[[10,  0],\n",
       "        [ 0,  1]],\n",
       "\n",
       "       [[ 8,  1],\n",
       "        [ 0,  2]],\n",
       "\n",
       "       [[10,  0],\n",
       "        [ 1,  0]],\n",
       "\n",
       "       [[ 8,  1],\n",
       "        [ 2,  0]],\n",
       "\n",
       "       [[ 9,  0],\n",
       "        [ 1,  1]],\n",
       "\n",
       "       [[ 6,  2],\n",
       "        [ 0,  3]]], dtype=int64)"
      ]
     },
     "execution_count": 154,
     "metadata": {},
     "output_type": "execute_result"
    }
   ],
   "source": [
    "multilabel_confusion_matrix(ytrue, yhat)\n",
    "#confusion matrix of the shape 2,2"
   ]
  },
  {
   "cell_type": "code",
   "execution_count": 155,
   "id": "0e2b2bf3",
   "metadata": {},
   "outputs": [
    {
     "data": {
      "text/plain": [
       "0.6363636363636364"
      ]
     },
     "execution_count": 155,
     "metadata": {},
     "output_type": "execute_result"
    }
   ],
   "source": [
    "accuracy_score(ytrue, yhat)"
   ]
  },
  {
   "cell_type": "markdown",
   "id": "06befd8a",
   "metadata": {},
   "source": [
    "11 Test in Realtime"
   ]
  },
  {
   "cell_type": "code",
   "execution_count": 156,
   "id": "82ed4234",
   "metadata": {},
   "outputs": [],
   "source": [
    "colors = [(125,117,16), (177,245,16), (16,117,245),(110,180,16), (190,245,16), (50,170,245), (80,117,16)]\n",
    "def prob_viz(res, actions, input_frame, colors):\n",
    "    output_frame = input_frame.copy()\n",
    "    for num, prob in enumerate(res):\n",
    "        cv2.rectangle(output_frame, (0,60+num*40), (int(prob*100), 90+num*40), colors[num], -1)\n",
    "        cv2.putText(output_frame, actions[num], (0, 85+num*40), cv2.FONT_HERSHEY_SIMPLEX, 1, (255,255,255), 2, cv2.LINE_AA)\n",
    "    return output_frame"
   ]
  },
  {
   "cell_type": "code",
   "execution_count": 128,
   "id": "fa2e7101",
   "metadata": {},
   "outputs": [],
   "source": [
    "#plt.figure(figsize=(18,18))\n",
    "#plt.imshow(prob_viz(res, actions, image, colors))"
   ]
  },
  {
   "cell_type": "code",
   "execution_count": null,
   "id": "10bbab83",
   "metadata": {},
   "outputs": [],
   "source": []
  },
  {
   "cell_type": "code",
   "execution_count": 171,
   "id": "88d0eeec",
   "metadata": {
    "scrolled": true
   },
   "outputs": [
    {
     "name": "stdout",
     "output_type": "stream",
     "text": [
      "<class 'mediapipe.python.solution_base.SolutionOutputs'>\n",
      "<class 'mediapipe.python.solution_base.SolutionOutputs'>\n"
     ]
    },
    {
     "ename": "IndexError",
     "evalue": "index 22 is out of bounds for axis 0 with size 7",
     "output_type": "error",
     "traceback": [
      "\u001b[1;31m---------------------------------------------------------------------------\u001b[0m",
      "\u001b[1;31mIndexError\u001b[0m                                Traceback (most recent call last)",
      "Input \u001b[1;32mIn [171]\u001b[0m, in \u001b[0;36m<cell line: 9>\u001b[1;34m()\u001b[0m\n\u001b[0;32m     35\u001b[0m \u001b[38;5;28;01mif\u001b[39;00m (res[np\u001b[38;5;241m.\u001b[39margmax(res, axis\u001b[38;5;241m=\u001b[39m\u001b[38;5;241m0\u001b[39m)] \u001b[38;5;241m>\u001b[39m threshold)\u001b[38;5;241m.\u001b[39many():   \u001b[38;5;66;03m#\u001b[39;00m\n\u001b[0;32m     36\u001b[0m     \u001b[38;5;28;01mif\u001b[39;00m \u001b[38;5;28mlen\u001b[39m(sentence) \u001b[38;5;241m>\u001b[39m \u001b[38;5;241m0\u001b[39m:\n\u001b[1;32m---> 37\u001b[0m         \u001b[38;5;28;01mif\u001b[39;00m \u001b[43mactions\u001b[49m\u001b[43m[\u001b[49m\u001b[43mnp\u001b[49m\u001b[38;5;241;43m.\u001b[39;49m\u001b[43margmax\u001b[49m\u001b[43m(\u001b[49m\u001b[43mres\u001b[49m\u001b[43m)\u001b[49m\u001b[43m]\u001b[49m \u001b[38;5;241m!=\u001b[39m sentence[\u001b[38;5;241m-\u001b[39m\u001b[38;5;241m1\u001b[39m]:\n\u001b[0;32m     38\u001b[0m             \u001b[38;5;66;03m#sentence.append(actions[np.argmax(res#, axis=0)])\u001b[39;00m\n\u001b[0;32m     39\u001b[0m             sentence\u001b[38;5;241m.\u001b[39mappend(actions[np\u001b[38;5;241m.\u001b[39margmax(res) \u001b[38;5;241m%\u001b[39m \u001b[38;5;28mlen\u001b[39m(actions)])\n\u001b[0;32m     40\u001b[0m     \u001b[38;5;28;01melse\u001b[39;00m:\n\u001b[0;32m     41\u001b[0m         \u001b[38;5;66;03m#sentence.append(actions[np.argmax(res#, axis=0)])\u001b[39;00m\n",
      "\u001b[1;31mIndexError\u001b[0m: index 22 is out of bounds for axis 0 with size 7"
     ]
    }
   ],
   "source": [
    "#New detection variables\n",
    "sequence = [] #collect our 30 frames inorder to genarate our prediction\n",
    "sentence = [] #allows us to concatenate our history of predictions\n",
    "threshold = 0.5 #confidence matrix we rendor results above a certain threshold\n",
    "\n",
    "cap = cv2.VideoCapture(0) \n",
    "\n",
    "#access or set the mediapipe model\n",
    "with mp_holistic.Holistic(min_detection_confidence=0.5, min_tracking_confidence=0.5) as holistic:\n",
    "    #double checking that we're still accesing our webcam and loop through all our frames in our webcam\n",
    "   \n",
    "    while cap.isOpened():\n",
    "        #Read feed from our webcam\n",
    "        ret, frame = cap.read()\n",
    "        \n",
    "        #make detections\n",
    "        image, results = mediapipe_detection(frame, holistic)\n",
    "        print(results)\n",
    "        \n",
    "        #Draw landmarks\n",
    "        draw_styled_landmarks(image, results)\n",
    "        \n",
    "        #2. Prediction logic\n",
    "        keypoints = extract_keypoints(results) #\n",
    "        sequence.append(keypoints)\n",
    "        sequence = sequence[-30:]\n",
    "        \n",
    "        if len(sequence) == 30:\n",
    "            #running our prediction\n",
    "            res = model.predict(np.expand_dims(sequence, axis=0))[0]\n",
    "            print(actions[np.argmax(res)]) \n",
    "        \n",
    "        \n",
    "        #Visualization logic\n",
    "        if (res[np.argmax(res, axis=0)] > threshold).any():   #\n",
    "            if len(sentence) > 0:\n",
    "                if actions[np.argmax(res)] != sentence[-1]:\n",
    "                    #sentence.append(actions[np.argmax(res#, axis=0)])\n",
    "                    sentence.append(actions[np.argmax(res) % len(actions)])\n",
    "            else:\n",
    "                #sentence.append(actions[np.argmax(res#, axis=0)])\n",
    "                sentence.append(actions[np.argmax(res) % len(actions)])\n",
    "                \n",
    "\n",
    "                    \n",
    "        if len(sentence) > 5:\n",
    "            sentence = sentence[-5:]\n",
    "            \n",
    "        #viz probabilities\n",
    "        #image = prob_viz(res, actions, image, colors)\n",
    "         \n",
    "        cv2.rectangle(image, (0,0), (640, 40), (245, 117, 16), -1)\n",
    "        cv2.putText(image, ' '.join(sentence), (3,30), \n",
    "                       cv2.FONT_HERSHEY_SIMPLEX, 1, (255, 255, 255), 2, cv2.LINE_AA) \n",
    "        \n",
    "        \n",
    "        \n",
    "        #print(results)\n",
    "        #show to the user\n",
    "        cv2.imshow('Feed', image)\n",
    "        \n",
    "        #breaking gracefully going to wait for a key to be pressed inside of our frame\n",
    "        if cv2.waitKey(10) & 0xFF == ord('q'):\n",
    "            break\n",
    "    cap.release() #releases our webcam\n",
    "    cv2.destroyAllWindows() #closes down our frame"
   ]
  },
  {
   "cell_type": "code",
   "execution_count": 167,
   "id": "6b09fd8a",
   "metadata": {},
   "outputs": [],
   "source": [
    "cap.release()\n",
    "cv2.destroyAllWindows()"
   ]
  },
  {
   "cell_type": "code",
   "execution_count": 168,
   "id": "558964d2",
   "metadata": {
    "collapsed": true
   },
   "outputs": [
    {
     "data": {
      "text/plain": [
       "array([[1.83456393e-07, 9.88657653e-01, 4.80686253e-07, 9.68761469e-07,\n",
       "        2.63469701e-07, 1.13264462e-02, 1.40169986e-05],\n",
       "       [3.79520073e-03, 2.71362974e-03, 6.67078467e-03, 7.75816515e-02,\n",
       "        4.17854518e-01, 9.19934595e-04, 4.90464300e-01],\n",
       "       [9.83076519e-04, 7.88093370e-04, 8.21793079e-03, 2.96614021e-02,\n",
       "        3.61235350e-01, 2.18410074e-04, 5.98895848e-01],\n",
       "       [7.34656747e-14, 9.99996662e-01, 7.87528896e-13, 1.16925014e-12,\n",
       "        1.49634454e-11, 3.37593133e-06, 5.48606405e-09],\n",
       "       [6.11334026e-01, 1.19323879e-04, 1.24373827e-02, 2.79181123e-01,\n",
       "        9.36737210e-02, 1.38884760e-04, 3.11562303e-03],\n",
       "       [9.74831743e-11, 2.45867134e-03, 4.20669721e-09, 1.03249596e-08,\n",
       "        6.80900784e-14, 9.97541308e-01, 1.32406405e-10],\n",
       "       [8.03569425e-03, 3.59978015e-03, 1.11383954e-02, 1.44057959e-01,\n",
       "        4.16205376e-01, 1.65402610e-03, 4.15308714e-01],\n",
       "       [5.00140596e-09, 9.99543846e-01, 3.83811560e-08, 3.79717164e-08,\n",
       "        1.07176533e-07, 4.52059467e-04, 3.98049497e-06],\n",
       "       [7.36439135e-04, 8.83167901e-04, 5.97527483e-03, 2.70351078e-02,\n",
       "        3.42694759e-01, 2.36771419e-04, 6.22438431e-01],\n",
       "       [5.68543219e-05, 1.06786341e-04, 5.28935867e-04, 1.10984752e-02,\n",
       "        2.57267237e-01, 1.62944889e-05, 7.30925500e-01],\n",
       "       [2.33348255e-04, 1.92260501e-04, 2.54700496e-03, 1.67407617e-02,\n",
       "        3.21895331e-01, 4.98137961e-05, 6.58341587e-01]], dtype=float32)"
      ]
     },
     "execution_count": 168,
     "metadata": {},
     "output_type": "execute_result"
    }
   ],
   "source": [
    "model.predict(X_test)"
   ]
  },
  {
   "cell_type": "code",
   "execution_count": 169,
   "id": "3de3e6ed",
   "metadata": {},
   "outputs": [
    {
     "data": {
      "text/plain": [
       "(30, 1, 1662)"
      ]
     },
     "execution_count": 169,
     "metadata": {},
     "output_type": "execute_result"
    }
   ],
   "source": [
    "np.expand_dims(X_test[0], axis=1).shape"
   ]
  },
  {
   "cell_type": "code",
   "execution_count": 170,
   "id": "fc2fe885",
   "metadata": {},
   "outputs": [
    {
     "ename": "IndexError",
     "evalue": "index 22 is out of bounds for axis 0 with size 11",
     "output_type": "error",
     "traceback": [
      "\u001b[1;31m---------------------------------------------------------------------------\u001b[0m",
      "\u001b[1;31mIndexError\u001b[0m                                Traceback (most recent call last)",
      "Input \u001b[1;32mIn [170]\u001b[0m, in \u001b[0;36m<cell line: 1>\u001b[1;34m()\u001b[0m\n\u001b[1;32m----> 1\u001b[0m \u001b[43mres\u001b[49m\u001b[43m[\u001b[49m\u001b[43mnp\u001b[49m\u001b[38;5;241;43m.\u001b[39;49m\u001b[43margmax\u001b[49m\u001b[43m(\u001b[49m\u001b[43mres\u001b[49m\u001b[43m)\u001b[49m\u001b[43m]\u001b[49m \u001b[38;5;241m>\u001b[39m threshold\n",
      "\u001b[1;31mIndexError\u001b[0m: index 22 is out of bounds for axis 0 with size 11"
     ]
    }
   ],
   "source": [
    "res[np.argmax(res)] > threshold"
   ]
  },
  {
   "cell_type": "code",
   "execution_count": 162,
   "id": "fab5bdc1",
   "metadata": {},
   "outputs": [
    {
     "name": "stdout",
     "output_type": "stream",
     "text": [
      "22\n"
     ]
    }
   ],
   "source": [
    "print(np.argmax(res))"
   ]
  },
  {
   "cell_type": "code",
   "execution_count": 172,
   "id": "f988c00a",
   "metadata": {},
   "outputs": [
    {
     "name": "stdout",
     "output_type": "stream",
     "text": [
      "22\n",
      "[[1.83456393e-07 9.88657653e-01 4.80686253e-07 9.68761469e-07\n",
      "  2.63469701e-07 1.13264462e-02 1.40169986e-05]\n",
      " [3.79520073e-03 2.71362974e-03 6.67078467e-03 7.75816515e-02\n",
      "  4.17854518e-01 9.19934595e-04 4.90464300e-01]\n",
      " [9.83076519e-04 7.88093370e-04 8.21793079e-03 2.96614021e-02\n",
      "  3.61235350e-01 2.18410074e-04 5.98895848e-01]\n",
      " [7.34656747e-14 9.99996662e-01 7.87528896e-13 1.16925014e-12\n",
      "  1.49634454e-11 3.37593133e-06 5.48606405e-09]\n",
      " [6.11334026e-01 1.19323879e-04 1.24373827e-02 2.79181123e-01\n",
      "  9.36737210e-02 1.38884760e-04 3.11562303e-03]\n",
      " [9.74831743e-11 2.45867134e-03 4.20669721e-09 1.03249596e-08\n",
      "  6.80900784e-14 9.97541308e-01 1.32406405e-10]\n",
      " [8.03569425e-03 3.59978015e-03 1.11383954e-02 1.44057959e-01\n",
      "  4.16205376e-01 1.65402610e-03 4.15308714e-01]\n",
      " [5.00140596e-09 9.99543846e-01 3.83811560e-08 3.79717164e-08\n",
      "  1.07176533e-07 4.52059467e-04 3.98049497e-06]\n",
      " [7.36439135e-04 8.83167901e-04 5.97527483e-03 2.70351078e-02\n",
      "  3.42694759e-01 2.36771419e-04 6.22438431e-01]\n",
      " [5.68543219e-05 1.06786341e-04 5.28935867e-04 1.10984752e-02\n",
      "  2.57267237e-01 1.62944889e-05 7.30925500e-01]\n",
      " [2.33348255e-04 1.92260501e-04 2.54700496e-03 1.67407617e-02\n",
      "  3.21895331e-01 4.98137961e-05 6.58341587e-01]]\n"
     ]
    }
   ],
   "source": [
    "print(np.argmax(res))\n",
    "print(res)"
   ]
  },
  {
   "cell_type": "code",
   "execution_count": 136,
   "id": "388b7cfe",
   "metadata": {},
   "outputs": [
    {
     "name": "stdout",
     "output_type": "stream",
     "text": [
      "7\n"
     ]
    }
   ],
   "source": [
    "print(len(actions))  # Should output 7"
   ]
  },
  {
   "cell_type": "code",
   "execution_count": 164,
   "id": "73bcede8",
   "metadata": {},
   "outputs": [
    {
     "name": "stdout",
     "output_type": "stream",
     "text": [
      "(7,)\n"
     ]
    }
   ],
   "source": [
    "print(actions.shape)"
   ]
  },
  {
   "cell_type": "code",
   "execution_count": 165,
   "id": "ee03bc9e",
   "metadata": {},
   "outputs": [
    {
     "name": "stdout",
     "output_type": "stream",
     "text": [
      "(11, 7)\n"
     ]
    }
   ],
   "source": [
    "print(res.shape)"
   ]
  },
  {
   "cell_type": "code",
   "execution_count": null,
   "id": "f7edd2ab",
   "metadata": {},
   "outputs": [],
   "source": []
  }
 ],
 "metadata": {
  "kernelspec": {
   "display_name": "Python 3 (ipykernel)",
   "language": "python",
   "name": "python3"
  },
  "language_info": {
   "codemirror_mode": {
    "name": "ipython",
    "version": 3
   },
   "file_extension": ".py",
   "mimetype": "text/x-python",
   "name": "python",
   "nbconvert_exporter": "python",
   "pygments_lexer": "ipython3",
   "version": "3.9.12"
  }
 },
 "nbformat": 4,
 "nbformat_minor": 5
}
